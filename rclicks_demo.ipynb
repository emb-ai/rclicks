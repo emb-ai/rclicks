{
 "cells": [
  {
   "cell_type": "markdown",
   "metadata": {},
   "source": [
    "## Demo of working with RClicks"
   ]
  },
  {
   "cell_type": "code",
   "execution_count": null,
   "metadata": {},
   "outputs": [],
   "source": [
    "import rclicks\n",
    "from easydict import EasyDict as edict\n",
    "from matplotlib import pyplot as plt\n",
    "import numpy as np"
   ]
  },
  {
   "cell_type": "markdown",
   "metadata": {},
   "source": [
    "### Ground truth click maps"
   ]
  },
  {
   "cell_type": "code",
   "execution_count": null,
   "metadata": {},
   "outputs": [],
   "source": [
    "clickmaps = edict(\n",
    "    GrabCut= rclicks.ClickMaps.load(dataset_name='GrabCut', sigma=5), # preset default sigma for dataset\n",
    "    Berkeley= rclicks.ClickMaps.load(dataset_name='Berkeley', sigma=5),\n",
    "    DAVIS= rclicks.ClickMaps.load(dataset_name='DAVIS', sigma=5),\n",
    "    COCO= rclicks.ClickMaps.load(dataset_name='COCO', sigma=5),\n",
    "    TETRISTrain = rclicks.ClickMaps.load(dataset_name='TETRIS', files=rclicks.TETRIS_TRAIN, sigma=5),\n",
    "    TETRISValid = rclicks.ClickMaps.load(dataset_name='TETRIS', files=rclicks.TETRIS_VAL, sigma=5),\n",
    ")\n"
   ]
  },
  {
   "cell_type": "markdown",
   "metadata": {},
   "source": [
    "Working with clickmaps"
   ]
  },
  {
   "cell_type": "code",
   "execution_count": null,
   "metadata": {},
   "outputs": [],
   "source": [
    "gt = clickmaps.Berkeley\n",
    "\n",
    "i = 20\n",
    "\n",
    "# Load sample\n",
    "sample = gt.sample(i)\n",
    "# Load sample for different devices\n",
    "sample_pc = gt.sample(i, device='pc')\n",
    "sample_mobile = gt.sample(i, device='mobile')\n",
    "# Load sample for different sigma\n",
    "sample_60 = gt.sample(i, sigma=60)\n",
    "\n",
    "# sample information\n",
    "sample\n",
    "\n"
   ]
  },
  {
   "cell_type": "code",
   "execution_count": null,
   "metadata": {},
   "outputs": [],
   "source": [
    "\n",
    "rclicks.plotter_init(figsize=(10,4))\n",
    "rclicks.clickmaps_minimal_plotter(gt.sample(i))\n",
    "plt.suptitle('Click map with predefined sigma=5')\n",
    "plt.show()\n",
    "\n",
    "rclicks.plotter_init(figsize=(10,4))\n",
    "rclicks.clickmaps_minimal_plotter(gt.sample(i, sigma=60))\n",
    "plt.suptitle('Click map with new sigma=60')\n",
    "plt.show()\n",
    "\n",
    "rclicks.plotter_init(figsize=(10,4))\n",
    "rclicks.clickmaps_minimal_plotter(gt.sample(i, sigma=60, device='pc'))\n",
    "plt.suptitle('Click map for PC')\n",
    "plt.show()\n",
    "\n",
    "rclicks.plotter_init(figsize=(10,4))\n",
    "rclicks.clickmaps_minimal_plotter(gt.sample(i, sigma=60, device='mobile'))\n",
    "plt.suptitle('Click map for Mobile')\n",
    "plt.show()"
   ]
  },
  {
   "cell_type": "markdown",
   "metadata": {},
   "source": [
    "Get DataFrame of click info and other meta data"
   ]
  },
  {
   "cell_type": "code",
   "execution_count": null,
   "metadata": {},
   "outputs": [],
   "source": [
    "print(gt.clicks_df)\n",
    "\n",
    "print('First round')\n",
    "print(list(gt.first.full_stem))\n",
    "print('Subsequent FP clicks')\n",
    "print(list(gt.fp.full_stem))\n",
    "print('Subsequent FN clicks')\n",
    "print(list(gt.fn.full_stem))\n"
   ]
  },
  {
   "cell_type": "markdown",
   "metadata": {},
   "source": [
    "### Clickability models"
   ]
  },
  {
   "cell_type": "markdown",
   "metadata": {},
   "source": [
    "Load model"
   ]
  },
  {
   "cell_type": "code",
   "execution_count": null,
   "metadata": {},
   "outputs": [],
   "source": [
    "clickability_model = rclicks.load_segnext(rclicks.MODEL_FNAME)\n",
    "callable_model = rclicks.ClickabilityModel(clickability_model)"
   ]
  },
  {
   "cell_type": "markdown",
   "metadata": {},
   "source": [
    "Load click simulator"
   ]
  },
  {
   "cell_type": "code",
   "execution_count": null,
   "metadata": {},
   "outputs": [],
   "source": [
    "simulators = edict(\n",
    "    GrabCut= rclicks.SimClicks.load(dataset_name='GrabCut', model=callable_model), # preset default model modelor dataset\n",
    "    Berkeley= rclicks.SimClicks.load(dataset_name='Berkeley', model=callable_model),\n",
    "    DAVIS= rclicks.SimClicks.load(dataset_name='DAVIS', model=callable_model),\n",
    "    COCO= rclicks.SimClicks.load(dataset_name='COCO', model=callable_model),\n",
    "    TETRISTrain = rclicks.SimClicks.load(dataset_name='TETRIS', files=rclicks.TETRIS_TRAIN, model=callable_model),\n",
    "    TETRISValid = rclicks.SimClicks.load(dataset_name='TETRIS', files=rclicks.TETRIS_VAL, model=callable_model),\n",
    ")"
   ]
  },
  {
   "cell_type": "markdown",
   "metadata": {},
   "source": [
    "Working with simulator"
   ]
  },
  {
   "cell_type": "code",
   "execution_count": null,
   "metadata": {},
   "outputs": [],
   "source": [
    "md = simulators.Berkeley\n",
    "\n",
    "i = 20\n",
    "\n",
    "# Load sample\n",
    "sim = md.sample(i)\n",
    "# Load sample with num_points=30\n",
    "sim_30 = md.sample(i, num_points=30)\n",
    "\n",
    "# sample information\n",
    "sim"
   ]
  },
  {
   "cell_type": "code",
   "execution_count": null,
   "metadata": {},
   "outputs": [],
   "source": [
    "# Simulator also contains data about GT clicks, but it don't used it in the simulation.\n",
    "# Basically csv file is only needed for interactive-segmentation \n",
    "# dataset samples indexing in the simulator\n",
    "print(md.clicks_df)\n",
    "\n",
    "print('First round')\n",
    "print(list(md.first.full_stem))\n",
    "print('Subsequent FP clicks')\n",
    "print(list(md.fp.full_stem))\n",
    "print('Subsequent FN clicks')\n",
    "print(list(md.fn.full_stem))"
   ]
  },
  {
   "cell_type": "code",
   "execution_count": null,
   "metadata": {},
   "outputs": [],
   "source": [
    "rclicks.plotter_init(figsize=(10,4))\n",
    "rclicks.clickmaps_minimal_plotter(sim)\n",
    "plt.suptitle('50 sampled clicks')\n",
    "plt.show()\n",
    "\n",
    "rclicks.plotter_init(figsize=(10,4))\n",
    "rclicks.clickmaps_minimal_plotter(sim_30)\n",
    "plt.suptitle('30 sampled clicks')\n",
    "plt.show()\n"
   ]
  },
  {
   "cell_type": "markdown",
   "metadata": {},
   "source": [
    "Other clickability models"
   ]
  },
  {
   "cell_type": "code",
   "execution_count": null,
   "metadata": {},
   "outputs": [],
   "source": [
    "sal_model = rclicks.load_transalnet_model()\n",
    "sal_callable = rclicks.SaliencyModel(sal_model)"
   ]
  },
  {
   "cell_type": "code",
   "execution_count": null,
   "metadata": {},
   "outputs": [],
   "source": [
    "md = simulators.Berkeley\n",
    "\n",
    "i = 20\n",
    "\n",
    "# uniform model\n",
    "md.model = rclicks.uniform_model\n",
    "\n",
    "rclicks.plotter_init(figsize=(10,4))\n",
    "rclicks.clickmaps_minimal_plotter(md.sample(i))\n",
    "plt.suptitle('Uniform model')\n",
    "plt.show()\n",
    "\n",
    "md.model = rclicks.distance_transform_model\n",
    "\n",
    "rclicks.plotter_init(figsize=(10,4))\n",
    "rclicks.clickmaps_minimal_plotter(md.sample(i))\n",
    "plt.suptitle('Distance transform model')\n",
    "plt.show()\n",
    "\n",
    "\n",
    "\n",
    "md.model = sal_callable\n",
    "\n",
    "rclicks.plotter_init(figsize=(10,4))\n",
    "rclicks.clickmaps_minimal_plotter(md.sample(i))\n",
    "plt.suptitle('Saliency model')\n",
    "plt.show()\n",
    "\n",
    "\n",
    "md.model = callable_model\n",
    "\n",
    "rclicks.plotter_init(figsize=(10,4))\n",
    "rclicks.clickmaps_minimal_plotter(md.sample(i))\n",
    "plt.suptitle('Our clickability model')\n",
    "plt.show()"
   ]
  }
 ],
 "metadata": {
  "kernelspec": {
   "display_name": "shepelev_clicks_eval",
   "language": "python",
   "name": "python3"
  },
  "language_info": {
   "codemirror_mode": {
    "name": "ipython",
    "version": 3
   },
   "file_extension": ".py",
   "mimetype": "text/x-python",
   "name": "python",
   "nbconvert_exporter": "python",
   "pygments_lexer": "ipython3",
   "version": "3.9.19"
  }
 },
 "nbformat": 4,
 "nbformat_minor": 2
}
